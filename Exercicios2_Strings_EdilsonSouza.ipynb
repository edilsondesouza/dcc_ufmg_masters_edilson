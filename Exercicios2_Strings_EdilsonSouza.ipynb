{
  "nbformat": 4,
  "nbformat_minor": 0,
  "metadata": {
    "colab": {
      "name": "Exercicios2-Strings-EdilsonSouza.ipynb",
      "provenance": [],
      "collapsed_sections": [],
      "authorship_tag": "ABX9TyNCOBh1eBsbsS89+20n+Um6",
      "include_colab_link": true
    },
    "kernelspec": {
      "name": "python3",
      "display_name": "Python 3"
    },
    "language_info": {
      "name": "python"
    }
  },
  "cells": [
    {
      "cell_type": "markdown",
      "metadata": {
        "id": "view-in-github",
        "colab_type": "text"
      },
      "source": [
        "<a href=\"https://colab.research.google.com/github/edilsondesouza/dcc_ufmg_masters_edilson/blob/master/Exercicios2_Strings_EdilsonSouza.ipynb\" target=\"_parent\"><img src=\"https://colab.research.google.com/assets/colab-badge.svg\" alt=\"Open In Colab\"/></a>"
      ]
    },
    {
      "cell_type": "markdown",
      "metadata": {
        "id": "LE_KY0ZHM6Ts"
      },
      "source": [
        "\n",
        "\n",
        "---\n",
        "\n",
        "\n",
        "\n",
        "# **Exercícios Ambientes de Programação - 2021/1**\n",
        "**Exercicios 2 - Strings**\n",
        "Aluno:Edilson Santana de Souza <p><p>\n",
        "Profa.Dra.: Raquel Minardi\n",
        "\n",
        "\n",
        "\n",
        "---\n",
        "\n",
        "\n"
      ]
    },
    {
      "cell_type": "markdown",
      "metadata": {
        "id": "1lW2v31YJl7i"
      },
      "source": [
        "\n",
        "\n",
        "---\n",
        "\n",
        "\n",
        "# **Exercício 1**\n",
        "\n",
        "O TNF alfa é uma citocina pró inflamatória capaz de provocar a apoptose (morte) de células tumorais. Dada a sua sequência de aminoácidos: <p>\n",
        "\n",
        "VRSSSRTPSDKPVAHVVANPQAEGQLQWLNRRANALLANGVELRDNQLVVPSEGLYLIYSQVLFKGQGCPSTHVLLTHT\n",
        "ISRIAVSYQTKVNLLSAIKSPCQRETPEGAEAKPWYEPIYLGGVFQLEKGDRLSAEINRPDYLLFAESGQVYFGIIAL\n",
        "<p>\n",
        "realize as seguintes tarefas: <p>\n",
        "\n",
        "a) Retorne o tamanho da sequência. <p>\n",
        "b) Realize a contagem da ocorrência de um sequência de leucinas (LL). <p>\n",
        "c) Encontre na sequência as posições ocupadas por duas glicinas (GG) e duas argininas (RR). <p>\n",
        "d) Retorne os 100 primeiros aminoácidos da sequência. <p>\n",
        "e) Substitua o trecho da sequência com a ocorrência de 3 serinas e 1 arginina (SSSR) por alaninas. <p>\n",
        "f) Quebre a sequência no local onde a substituição foi realizada.  <p>"
      ]
    },
    {
      "cell_type": "code",
      "metadata": {
        "id": "C_AXPrWJIcBx"
      },
      "source": [
        "#Input de dados e impressão dos 3 conjuntos do exercício\n",
        "\n",
        "seqAmin = 'VRSSSRTPSDKPVAHVVANPQAEGQLQWLNRRANALLANGVELRDNQLVVPSEGLYLIYSQVLFKGQGCPSTHVLLTHT ISRIAVSYQTKVNLLSAIKSPCQRETPEGAEAKPWYEPIYLGGVFQLEKGDRLSAEINRPDYLLFAESGQVYFGIIAL'"
      ],
      "execution_count": 52,
      "outputs": []
    },
    {
      "cell_type": "code",
      "metadata": {
        "colab": {
          "base_uri": "https://localhost:8080/"
        },
        "id": "mN4MxsiiKFZT",
        "outputId": "1326749a-7e72-4aac-fd03-ceae7a35d23d"
      },
      "source": [
        "#item 1a) a) Retorne o tamanho da sequência.\n",
        "\n",
        "print('Aminoacid Sequence size:', len(seqAmin))"
      ],
      "execution_count": 54,
      "outputs": [
        {
          "output_type": "stream",
          "text": [
            "Aminoacid Sequence size: 158\n"
          ],
          "name": "stdout"
        }
      ]
    },
    {
      "cell_type": "code",
      "metadata": {
        "colab": {
          "base_uri": "https://localhost:8080/"
        },
        "id": "mXDVnIULKci3",
        "outputId": "1cb35dd3-7c2f-4158-9c0c-994c9c9a8b5e"
      },
      "source": [
        "#1b) Realize a contagem da ocorrência de um sequência de leucinas (LL).\n",
        "\n",
        "seqAmin.count('LL')"
      ],
      "execution_count": 57,
      "outputs": [
        {
          "output_type": "execute_result",
          "data": {
            "text/plain": [
              "4"
            ]
          },
          "metadata": {
            "tags": []
          },
          "execution_count": 57
        }
      ]
    },
    {
      "cell_type": "code",
      "metadata": {
        "colab": {
          "base_uri": "https://localhost:8080/"
        },
        "id": "Kfig1BTGKkc7",
        "outputId": "cdb1a5c3-21de-4f0b-ce69-9ccd9c006961"
      },
      "source": [
        "#1c) Encontre na sequência as posições ocupadas por duas glicinas (GG) e duas argininas (RR).\n",
        "\n",
        "print('First Position GG: ', seqAmin.find('GG'))\n",
        "print('First Position RR: ', seqAmin.find('RR'))"
      ],
      "execution_count": 61,
      "outputs": [
        {
          "output_type": "stream",
          "text": [
            "First Position GG:  121\n",
            "First Position RR:  30\n"
          ],
          "name": "stdout"
        }
      ]
    },
    {
      "cell_type": "code",
      "metadata": {
        "colab": {
          "base_uri": "https://localhost:8080/"
        },
        "id": "OiBYCfIZKoZa",
        "outputId": "23b2c841-fc7c-40ba-825f-29a20b5ecb34"
      },
      "source": [
        "#1d) Retorne os 100 primeiros aminoácidos da sequência.\n",
        "print(seqAmin[:100])"
      ],
      "execution_count": 65,
      "outputs": [
        {
          "output_type": "stream",
          "text": [
            "VRSSSRTPSDKPVAHVVANPQAEGQLQWLNRRANALLANGVELRDNQLVVPSEGLYLIYSQVLFKGQGCPSTHVLLTHT ISRIAVSYQTKVNLLSAIKS\n"
          ],
          "name": "stdout"
        }
      ]
    },
    {
      "cell_type": "code",
      "metadata": {
        "id": "lyUZ-cISURjH"
      },
      "source": [
        "#1e)Substitua o trecho da sequência com a ocorrência de 3 serinas e 1 arginina (SSSR) por alaninas.\n",
        "\n",
        "#print(seqAmin.find('SSSR'))\n",
        "seqAmin = seqAmin.replace('SSSR', 'AAAA')"
      ],
      "execution_count": 75,
      "outputs": []
    },
    {
      "cell_type": "code",
      "metadata": {
        "colab": {
          "base_uri": "https://localhost:8080/"
        },
        "id": "joISu7G0UTDw",
        "outputId": "991b1f3c-6579-4e15-99e9-894635366851"
      },
      "source": [
        "#1f) Quebre a sequência no local onde a substituição foi realizada.\n",
        "print(seqAmin.split('AAAA'))"
      ],
      "execution_count": 76,
      "outputs": [
        {
          "output_type": "stream",
          "text": [
            "['VR', 'TPSDKPVAHVVANPQAEGQLQWLNRRANALLANGVELRDNQLVVPSEGLYLIYSQVLFKGQGCPSTHVLLTHT ISRIAVSYQTKVNLLSAIKSPCQRETPEGAEAKPWYEPIYLGGVFQLEKGDRLSAEINRPDYLLFAESGQVYFGIIAL']\n"
          ],
          "name": "stdout"
        }
      ]
    },
    {
      "cell_type": "markdown",
      "metadata": {
        "id": "rcHfBmmjNuuP"
      },
      "source": [
        "\n",
        "\n",
        "---\n",
        "\n",
        "\n",
        "# **Exercício 2**\n",
        "\n",
        "Utilizando o texto abaixo: <p>\n",
        "\n",
        "\"As proteínas são cadeias polipeptídicas formadas pela ligação peptídica entre resíduos de aminoácidos.\n",
        "Existem 20 tipos de aminoácidos comumente encontrados nos seres vivos. A esses aminoácidos, foram atribuídas abreviações de 3 letras e símbolos de 1 letra. As abreviações de 3 letras são bastante evidentes consistindo nas três primeiras letras do se nome.\" <p>\n",
        "\n",
        "Realiza as seguintes tarefas: <p>\n",
        "a) Passe todo o texto para letras maiúsculas. <p>\n",
        "b) Passe todo o texto para letras minúsculas. <p>\n",
        "c) Passe cada primeira letra de palavra em maiúsculo. <p>\n",
        "d) Transforme as letras maiúsculas em minúsculas e vice-versa. <p>"
      ]
    },
    {
      "cell_type": "code",
      "metadata": {
        "colab": {
          "base_uri": "https://localhost:8080/"
        },
        "id": "pNmyVRJBNy_e",
        "outputId": "abe116d4-7608-4239-e245-39d6f55c6156"
      },
      "source": [
        "#2a) Passe todo o texto para letras maiúsculas.\n",
        "\n",
        "texto = \"As proteínas são cadeias polipeptídicas formadas pela ligação peptídica entre resíduos de aminoácidos. Existem 20 tipos de aminoácidos comumente encontrados nos seres vivos. A esses aminoácidos, foram atribuídas abreviações de 3 letras e símbolos de 1 letra. As abreviações de 3 letras são bastante evidentes consistindo nas três primeiras letras do se nome.\"\n",
        "texto = texto.upper()\n",
        "print(texto)\n"
      ],
      "execution_count": 78,
      "outputs": [
        {
          "output_type": "stream",
          "text": [
            "AS PROTEÍNAS SÃO CADEIAS POLIPEPTÍDICAS FORMADAS PELA LIGAÇÃO PEPTÍDICA ENTRE RESÍDUOS DE AMINOÁCIDOS. EXISTEM 20 TIPOS DE AMINOÁCIDOS COMUMENTE ENCONTRADOS NOS SERES VIVOS. A ESSES AMINOÁCIDOS, FORAM ATRIBUÍDAS ABREVIAÇÕES DE 3 LETRAS E SÍMBOLOS DE 1 LETRA. AS ABREVIAÇÕES DE 3 LETRAS SÃO BASTANTE EVIDENTES CONSISTINDO NAS TRÊS PRIMEIRAS LETRAS DO SE NOME.\n"
          ],
          "name": "stdout"
        }
      ]
    },
    {
      "cell_type": "code",
      "metadata": {
        "colab": {
          "base_uri": "https://localhost:8080/"
        },
        "id": "JtKDCArHOQeY",
        "outputId": "6ffe5b52-a206-4b6f-cec2-88b337fa3713"
      },
      "source": [
        "#2b) Passe todo o texto para letras minúsculas.\n",
        "texto = texto.lower()\n",
        "print(texto)\n"
      ],
      "execution_count": 79,
      "outputs": [
        {
          "output_type": "stream",
          "text": [
            "as proteínas são cadeias polipeptídicas formadas pela ligação peptídica entre resíduos de aminoácidos. existem 20 tipos de aminoácidos comumente encontrados nos seres vivos. a esses aminoácidos, foram atribuídas abreviações de 3 letras e símbolos de 1 letra. as abreviações de 3 letras são bastante evidentes consistindo nas três primeiras letras do se nome.\n"
          ],
          "name": "stdout"
        }
      ]
    },
    {
      "cell_type": "code",
      "metadata": {
        "colab": {
          "base_uri": "https://localhost:8080/"
        },
        "id": "vyRHd_H0OQpS",
        "outputId": "84ae33b6-19e0-4fc9-ba8f-cac3c7650027"
      },
      "source": [
        "#2c) Passe cada primeira letra de palavra em maiúsculo.\n",
        "texto = texto.title()\n",
        "print(texto)"
      ],
      "execution_count": 87,
      "outputs": [
        {
          "output_type": "stream",
          "text": [
            "As Proteínas São Cadeias Polipeptídicas Formadas Pela Ligação Peptídica Entre Resíduos De Aminoácidos. Existem 20 Tipos De Aminoácidos Comumente Encontrados Nos Seres Vivos. A Esses Aminoácidos, Foram Atribuídas Abreviações De 3 Letras E Símbolos De 1 Letra. As Abreviações De 3 Letras São Bastante Evidentes Consistindo Nas Três Primeiras Letras Do Se Nome.\n"
          ],
          "name": "stdout"
        }
      ]
    },
    {
      "cell_type": "code",
      "metadata": {
        "colab": {
          "base_uri": "https://localhost:8080/"
        },
        "id": "tDJjBzkpOQxK",
        "outputId": "752d88f1-761e-45a8-b342-b3774a737209"
      },
      "source": [
        "#2d) Transforme as letras maiúsculas em minúsculas e vice-versa.\n",
        "texto = texto.swapcase()\n",
        "print(texto)"
      ],
      "execution_count": 92,
      "outputs": [
        {
          "output_type": "stream",
          "text": [
            "aS pROTEÍNAS sÃO cADEIAS pOLIPEPTÍDICAS fORMADAS pELA lIGAÇÃO pEPTÍDICA eNTRE rESÍDUOS dE aMINOÁCIDOS. eXISTEM 20 tIPOS dE aMINOÁCIDOS cOMUMENTE eNCONTRADOS nOS sERES vIVOS. a eSSES aMINOÁCIDOS, fORAM aTRIBUÍDAS aBREVIAÇÕES dE 3 lETRAS e sÍMBOLOS dE 1 lETRA. aS aBREVIAÇÕES dE 3 lETRAS sÃO bASTANTE eVIDENTES cONSISTINDO nAS tRÊS pRIMEIRAS lETRAS dO sE nOME.\n"
          ],
          "name": "stdout"
        }
      ]
    },
    {
      "cell_type": "markdown",
      "metadata": {
        "id": "-0x2WTaoVDE3"
      },
      "source": [
        "# **Exercício 3**\n",
        "<p>\n",
        "\n",
        "Utilizando a sequência: <p>\n",
        "insulin_signal = “MALWMRLLPLLALLALWGPDPAAA” <p>\n",
        "\n",
        "Realize as seguintes tarefas:  <p>\n",
        "\n",
        "a) Retorne o tamanho da sequência apresentada. <p>\n",
        "b) Quebre a sequência no trecho “LLALLALWG\". <p>\n",
        "c) Concatene as sequências resultantes obtendo a seguinte sequência final MALWMRLLPPDPAAA. <p>\n",
        "d) Substitua o trecho \"DPAAA\" por “LLALL”. <p>\n"
      ]
    },
    {
      "cell_type": "code",
      "metadata": {
        "id": "sCmevtSsZwou"
      },
      "source": [
        "insulin_signal = \"MALWMRLLPLLALLALWGPDPAAA\""
      ],
      "execution_count": 89,
      "outputs": []
    },
    {
      "cell_type": "code",
      "metadata": {
        "colab": {
          "base_uri": "https://localhost:8080/"
        },
        "id": "iHaRuEesaAM1",
        "outputId": "881f6533-7376-4fc8-c138-492d33f8b078"
      },
      "source": [
        "#3a) Retorne o tamanho da sequência apresentada.\n",
        "len(insulin_signal)"
      ],
      "execution_count": 90,
      "outputs": [
        {
          "output_type": "execute_result",
          "data": {
            "text/plain": [
              "24"
            ]
          },
          "metadata": {
            "tags": []
          },
          "execution_count": 90
        }
      ]
    },
    {
      "cell_type": "code",
      "metadata": {
        "colab": {
          "base_uri": "https://localhost:8080/"
        },
        "id": "nWrHK3-uaMPh",
        "outputId": "1708e3f2-fb63-4847-cff8-bd12b628b764"
      },
      "source": [
        "#3b) Quebre a sequência no trecho “LLALLALWG\".\n",
        "split_signal = insulin_signal.split('LLALLALWG')\n",
        "print(split_signal)"
      ],
      "execution_count": 95,
      "outputs": [
        {
          "output_type": "stream",
          "text": [
            "['MALWMRLLP', 'PDPAAA']\n"
          ],
          "name": "stdout"
        }
      ]
    },
    {
      "cell_type": "code",
      "metadata": {
        "colab": {
          "base_uri": "https://localhost:8080/"
        },
        "id": "mprcVRUqaOsP",
        "outputId": "5bb5dc9c-78f2-42fe-ade7-143a5d499dc4"
      },
      "source": [
        "#3c) Concatene as sequências resultantes obtendo a seguinte sequência final MALWMRLLPPDPAAA.\n",
        "concat_signal = split_signal[0] + split_signal[1]\n",
        "print(concat_signal)"
      ],
      "execution_count": 102,
      "outputs": [
        {
          "output_type": "stream",
          "text": [
            "MALWMRLLPPDPAAA\n"
          ],
          "name": "stdout"
        }
      ]
    },
    {
      "cell_type": "code",
      "metadata": {
        "colab": {
          "base_uri": "https://localhost:8080/"
        },
        "id": "qSgmSe9laRr-",
        "outputId": "07dc9da0-064a-4afd-fdef-298ff5ecc897"
      },
      "source": [
        "#3d) Substitua o trecho \"DPAAA\" por “LLALL”.\n",
        "print(concat_signal.replace('DPAAA', 'LLALL'))"
      ],
      "execution_count": 103,
      "outputs": [
        {
          "output_type": "stream",
          "text": [
            "MALWMRLLPPLLALL\n"
          ],
          "name": "stdout"
        }
      ]
    },
    {
      "cell_type": "markdown",
      "metadata": {
        "id": "XalIW0uNVP5C"
      },
      "source": [
        "# **Exercício 4** <p>\n",
        "\n",
        " Com base na sequência  de DNA GATGGAACTTGACGTAAACCTATATT retorne a sequência de RNA\n",
        "correspondente sendo a mesma GAUGGAACUUGACGUAAACCUAUAUU."
      ]
    },
    {
      "cell_type": "code",
      "metadata": {
        "colab": {
          "base_uri": "https://localhost:8080/"
        },
        "id": "PE99KSsSaVUv",
        "outputId": "3489987e-cf63-41ba-e9ff-eda53821586f"
      },
      "source": [
        "DNA_Seq = 'GATGGAACTTGACGTAAACCTATATT'\n",
        "RNA_Seq = DNA_Seq.replace('T', 'U')\n",
        "print(RNA_Seq)"
      ],
      "execution_count": 91,
      "outputs": [
        {
          "output_type": "stream",
          "text": [
            "GAUGGAACUUGACGUAAACCUAUAUU\n"
          ],
          "name": "stdout"
        }
      ]
    }
  ]
}

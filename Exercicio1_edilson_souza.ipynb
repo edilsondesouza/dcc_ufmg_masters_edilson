{
  "nbformat": 4,
  "nbformat_minor": 0,
  "metadata": {
    "kernelspec": {
      "display_name": "Python 3",
      "language": "python",
      "name": "python3"
    },
    "language_info": {
      "codemirror_mode": {
        "name": "ipython",
        "version": 3
      },
      "file_extension": ".py",
      "mimetype": "text/x-python",
      "name": "python",
      "nbconvert_exporter": "python",
      "pygments_lexer": "ipython3",
      "version": "3.8.5"
    },
    "colab": {
      "name": "Exercicio1-edilson-souza.ipynb",
      "provenance": [],
      "include_colab_link": true
    }
  },
  "cells": [
    {
      "cell_type": "markdown",
      "metadata": {
        "id": "view-in-github",
        "colab_type": "text"
      },
      "source": [
        "<a href=\"https://colab.research.google.com/github/edilsondesouza/dcc_ufmg_masters_edilson/blob/ambientes-programacao-ufmg/Exercicio1_edilson_souza.ipynb\" target=\"_parent\"><img src=\"https://colab.research.google.com/assets/colab-badge.svg\" alt=\"Open In Colab\"/></a>"
      ]
    },
    {
      "cell_type": "code",
      "metadata": {
        "id": "FJrFUOvpgcAc",
        "outputId": "d45c19ca-929b-4a89-b20d-466fb724d6fe"
      },
      "source": [
        "'''\n",
        "---------------------------------\n",
        "|   Ambientes de Programação    |\n",
        "|    Lista de exercícios 1      |\n",
        "|   Edilson Santana de Souza    |\n",
        "---------------------------------\n",
        "'''"
      ],
      "execution_count": null,
      "outputs": [
        {
          "output_type": "execute_result",
          "data": {
            "text/plain": [
              "'\\n---------------------------------\\n|   Ambientes de Programação    |\\n|    Lista de exercícios 1      |\\n|   Edilson Santana de Souza    |\\n---------------------------------\\n'"
            ]
          },
          "metadata": {
            "tags": []
          },
          "execution_count": 5
        }
      ]
    },
    {
      "cell_type": "code",
      "metadata": {
        "id": "2zHCGVAigcAh",
        "outputId": "746eb736-d621-44e3-ce03-0c47b12aa4d8"
      },
      "source": [
        "#Questão 1\n",
        "linguagem = \"python\"\n",
        "print(linguagem)\n",
        "\n",
        "'''\n",
        "Entendimento: Este trecho de código atribui a string \"python\" a variável linguagem e imprime a mesma na saída padrão.\n",
        " Importante ressaltar que a string poderia também pode utilizar aspas simples da forma abaixo:\n",
        "  linguagem2 = 'python2'\n",
        "  print(linguagem2)\n",
        "'''"
      ],
      "execution_count": null,
      "outputs": [
        {
          "output_type": "stream",
          "text": [
            "python\n"
          ],
          "name": "stdout"
        }
      ]
    },
    {
      "cell_type": "code",
      "metadata": {
        "id": "yNNt81LfgcAj",
        "outputId": "9858ea1b-7a52-4460-b2bf-3633821e7a8e"
      },
      "source": [
        "#Questão 2\n",
        "\n",
        "a = 1500\n",
        "b = 335\n",
        "print(a+b)\n",
        "print(a*b)\n",
        "print(a-b)\n",
        "\n",
        "'''\n",
        "Entendimento: Este trecho de código atribui a variável a o valor numérico de 1500 e 335 a variável b.\n",
        " Em seguida imprime a soma dos dois valores, depois multiplica os mesmos valores armazenados em a e b, e por fim subtrai os mesmos valores.\n",
        " É importante destacar que nenhuma das operações de soma, multiplicação e subtração alteram os valores originalmente contidos em a (1500) e b (335)\n",
        "\n",
        "'''"
      ],
      "execution_count": null,
      "outputs": [
        {
          "output_type": "stream",
          "text": [
            "1835\n",
            "502500\n",
            "1165\n"
          ],
          "name": "stdout"
        }
      ]
    },
    {
      "cell_type": "code",
      "metadata": {
        "id": "J32v9mD1gcAk",
        "outputId": "15901afd-2d12-4d3b-8bcb-3b6cd8f1ab0d"
      },
      "source": [
        "#Questão 3\n",
        "\n",
        "a = \"Marie\"\n",
        "b = ' Curie '\n",
        "c = '!!! '\n",
        "print(a + b + c)\n",
        "\n",
        "'''\n",
        "Entendimento: Este trecho de código atribui a string a, o valor \"Marie\" e a string b o valor ' Curie ' e a variável c o valor '!!!v '\n",
        "Há de se ressaltar que ao imprimir as 3 variáveis de forma concatenada através do uso do operador + os espaços em branco dentro das aspas\n",
        "simples ou duplas é levado em conta.\n",
        "'''"
      ],
      "execution_count": null,
      "outputs": [
        {
          "output_type": "stream",
          "text": [
            "Marie Curie !!! \n"
          ],
          "name": "stdout"
        },
        {
          "output_type": "execute_result",
          "data": {
            "text/plain": [
              "'\\nEntendimento: Este trecho de código atribui a string a, o valor \"Marie\" e a string b o valor \\' Curie \\' e a variável c o valor \\'!!!v \\'\\nHá de se ressaltar que ao imprimir as 3 variáveis de forma concatenada através do uso do operador + os espaços em branco dentro das aspas\\nsimples ou duplas é levado em conta.\\n'"
            ]
          },
          "metadata": {
            "tags": []
          },
          "execution_count": 11
        }
      ]
    },
    {
      "cell_type": "code",
      "metadata": {
        "id": "wUlihsA6gcAl",
        "outputId": "eae75a1d-6b8e-4e06-f5cc-b4372c27cb5b"
      },
      "source": [
        "#Questão 4 \n",
        "\n",
        "print(2 + 3 == 5)\n",
        "\n",
        "'''\n",
        "Entendimento: Este trecho de código imprime o resultado da comparação booleana do operador == com resultado igual a True.\n",
        "'''\n"
      ],
      "execution_count": null,
      "outputs": [
        {
          "output_type": "stream",
          "text": [
            "True\n"
          ],
          "name": "stdout"
        },
        {
          "output_type": "execute_result",
          "data": {
            "text/plain": [
              "'\\nEntendimento: Este trecho de código imprime o resultado da comparação booleana do operador == com resultado igual a True.\\n'"
            ]
          },
          "metadata": {
            "tags": []
          },
          "execution_count": 12
        }
      ]
    },
    {
      "cell_type": "code",
      "metadata": {
        "id": "WgtL0nM1gcAl",
        "outputId": "b084fb63-cbfa-4cfb-b75b-7508ba98c3a7"
      },
      "source": [
        "#Questão 5\n",
        "\n",
        "print(5 + 9 = 13)\n",
        "\n",
        "'''\n",
        "Entendimento: Este trecho de código dará um erro de sintaxe pois tenta atribuir um valor numero erroneo a dois outros numeros.\n",
        "Atribuições não podem ser parametros do comando print. Deveria-se usar o operador == caso o objetivo fosse fazer um teste lógico ou se fazer\n",
        "a atribuição a uma variável válida fora do comando print.\n",
        "'''"
      ],
      "execution_count": null,
      "outputs": [
        {
          "output_type": "error",
          "ename": "SyntaxError",
          "evalue": "expression cannot contain assignment, perhaps you meant \"==\"? (<ipython-input-22-e575cbc85f6a>, line 3)",
          "traceback": [
            "\u001b[1;36m  File \u001b[1;32m\"<ipython-input-22-e575cbc85f6a>\"\u001b[1;36m, line \u001b[1;32m3\u001b[0m\n\u001b[1;33m    print(5 + 9 = 13)\u001b[0m\n\u001b[1;37m          ^\u001b[0m\n\u001b[1;31mSyntaxError\u001b[0m\u001b[1;31m:\u001b[0m expression cannot contain assignment, perhaps you meant \"==\"?\n"
          ]
        }
      ]
    },
    {
      "cell_type": "code",
      "metadata": {
        "id": "a9QWO_HTgcAm",
        "outputId": "24d41d24-f126-417c-e5b0-e80b4ddad032"
      },
      "source": [
        "#Questão 6\n",
        "pi = 3.1415 # Valor do número pi\n",
        "print(pi)\n",
        "\n",
        "'''\n",
        "Entendimento: Este trecho de código imprime o número pi.\n",
        "'''"
      ],
      "execution_count": null,
      "outputs": [
        {
          "output_type": "stream",
          "text": [
            "3.1415\n"
          ],
          "name": "stdout"
        },
        {
          "output_type": "execute_result",
          "data": {
            "text/plain": [
              "'\\nEntendimento: Este trecho de código imprime o resultado da comparação booleana do operador == com resultado igual a True.\\n'"
            ]
          },
          "metadata": {
            "tags": []
          },
          "execution_count": 15
        }
      ]
    },
    {
      "cell_type": "code",
      "metadata": {
        "id": "CkqEjcuxgcAm",
        "outputId": "80e85364-97c7-423b-9232-daf3aa1905a7"
      },
      "source": [
        "#Questão 7\n",
        "\n",
        "pi = 3.1415 # Valor do número pi\n",
        "    print(pi) # Com um \"tab\" antes do print(pi)\n",
        "\n",
        "'''\n",
        "Entendimento: Este trecho de código dará um erro de indentação não esperada. Como não existe subordinação entre as duas linhas de comando \n",
        "as duas deveriam ter a mesma identação como na questão 6 e reproduzido abaixo.\n",
        "'''\n",
        "#pi = 3.1415 # Valor do número pi\n",
        "#print(pi) # Com um \"tab\" antes do print(pi)\n",
        "\n"
      ],
      "execution_count": null,
      "outputs": [
        {
          "output_type": "error",
          "ename": "IndentationError",
          "evalue": "unexpected indent (<ipython-input-21-e62744892b64>, line 4)",
          "traceback": [
            "\u001b[1;36m  File \u001b[1;32m\"<ipython-input-21-e62744892b64>\"\u001b[1;36m, line \u001b[1;32m4\u001b[0m\n\u001b[1;33m    print(pi) # Com um \"tab\" antes do print(pi)\u001b[0m\n\u001b[1;37m    ^\u001b[0m\n\u001b[1;31mIndentationError\u001b[0m\u001b[1;31m:\u001b[0m unexpected indent\n"
          ]
        }
      ]
    }
  ]
}
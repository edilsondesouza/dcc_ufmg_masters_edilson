{
  "nbformat": 4,
  "nbformat_minor": 0,
  "metadata": {
    "colab": {
      "name": "Exercicios3-Conjuntos-EdilsonSouza.ipynb",
      "provenance": [],
      "collapsed_sections": [],
      "authorship_tag": "ABX9TyOlhSoFLXIBPdgLQjjkih/G",
      "include_colab_link": true
    },
    "kernelspec": {
      "name": "python3",
      "display_name": "Python 3"
    },
    "language_info": {
      "name": "python"
    }
  },
  "cells": [
    {
      "cell_type": "markdown",
      "metadata": {
        "id": "view-in-github",
        "colab_type": "text"
      },
      "source": [
        "<a href=\"https://colab.research.google.com/github/edilsondesouza/dcc_ufmg_masters_edilson/blob/master/Exercicios3_Conjuntos_EdilsonSouza.ipynb\" target=\"_parent\"><img src=\"https://colab.research.google.com/assets/colab-badge.svg\" alt=\"Open In Colab\"/></a>"
      ]
    },
    {
      "cell_type": "markdown",
      "metadata": {
        "id": "LE_KY0ZHM6Ts"
      },
      "source": [
        "\n",
        "\n",
        "---\n",
        "\n",
        "\n",
        "\n",
        "# **Exercícios Ambientes de Programação - 2021/1**\n",
        "Aluno:Edilson Santana de Souza <p><p>\n",
        "Profa.Dra.: Raquel Minardi\n",
        "\n",
        "\n",
        "\n",
        "---\n",
        "\n",
        "\n"
      ]
    },
    {
      "cell_type": "markdown",
      "metadata": {
        "id": "1lW2v31YJl7i"
      },
      "source": [
        "\n",
        "\n",
        "---\n",
        "\n",
        "\n",
        "# **Exercício 1**\n",
        "\n",
        "Para facilitar, você pode copiar os valores no formato texto abaixo:\n",
        "1.9, 1.8, 5.7, 1.6, 5.8, 1.7, 9.6, 5.9, 9.5, 6.5, 6.2, 1.1, 4.4, 3.5, 2.9, 4.7,\n",
        "4.6, 5.2, 5.3\n",
        "4.7, 3.6, 6.2, 7.1, 7, 5.6, 5.7, 3.4, 3.3, 2.1, 3.8, 3.9, 5, 5.1, 1.9, 9.5,\n",
        "1.0, 1.3, 5.4\n",
        "2.2, 3.3, 5.1, 3, 3.7, 9.1, 8.8, 8.5, 2, 4.1, 6.1, 4.9, 1.1, 0.5, 0.8, 3.2,\n",
        "6.9, 9.3, 9.5\n",
        "\n",
        "A seguir, codifique em Python as seguintes tarefas:  <p><p>\n",
        "\n",
        "a) Verifique as diferenças entre os conjuntos (1,2) (1,3) e (2,3) <p><p>\n",
        "b) Retorne as intersecções entre (1,2) (1,3) e (2,3) <p><p>\n",
        "c) Insira todos os elementos do conjunto 2 e 3 no conjunto 1 <p><p>\n",
        "d) Retorne o tamanho do conjunto formado pela tarefa (c).  "
      ]
    },
    {
      "cell_type": "code",
      "metadata": {
        "colab": {
          "base_uri": "https://localhost:8080/"
        },
        "id": "C_AXPrWJIcBx",
        "outputId": "16732d34-bcc4-4904-cce3-471e24560571"
      },
      "source": [
        "#Input de dados e impressão dos 3 conjuntos do exercício\n",
        "\n",
        "A = {1.9, 1.8, 5.7, 1.6, 5.8, 1.7, 9.6, 5.9, 9.5, 6.5, 6.2, 1.1, 4.4, 3.5, 2.9, 4.7,\n",
        "4.6, 5.2, 5.3}\n",
        "B = {4.7, 3.6, 6.2, 7.1, 7, 5.6, 5.7, 3.4, 3.3, 2.1, 3.8, 3.9, 5, 5.1, 1.9, 9.5,\n",
        "1.0, 1.3, 5.4}\n",
        "C= {2.2, 3.3, 5.1, 3, 3.7, 9.1, 8.8, 8.5, 2, 4.1, 6.1, 4.9, 1.1, 0.5, 0.8, 3.2,\n",
        "6.9, 9.3, 9.5}\n",
        "\n",
        "print('Set A:', A)\n",
        "print('Set B:', B)\n",
        "print('Set C:', C)"
      ],
      "execution_count": 25,
      "outputs": [
        {
          "output_type": "stream",
          "text": [
            "Set A: {1.9, 1.6, 1.8, 1.7, 5.8, 5.7, 5.9, 6.5, 9.6, 9.5, 6.2, 4.4, 5.3, 5.2, 3.5, 4.6, 1.1, 4.7, 2.9}\n",
            "Set B: {1.9, 2.1, 3.6, 4.7, 5.6, 6.2, 7, 7.1, 5.7, 3.4, 3.3, 3.8, 5, 5.1, 9.5, 5.4, 1.0, 1.3, 3.9}\n",
            "Set C: {0.5, 1.1, 2.2, 3, 3.3, 3.7, 5.1, 2, 8.8, 9.1, 8.5, 4.1, 6.1, 4.9, 6.9, 9.3, 9.5, 3.2, 0.8}\n"
          ],
          "name": "stdout"
        }
      ]
    },
    {
      "cell_type": "code",
      "metadata": {
        "colab": {
          "base_uri": "https://localhost:8080/"
        },
        "id": "mN4MxsiiKFZT",
        "outputId": "4097ef58-d748-41f4-eb57-df9e6551f09a"
      },
      "source": [
        "#item 1a) Verifique as diferenças entre os conjuntos (1,2) (1,3) e (2,3)\n",
        "difA_B = A.difference(B)\n",
        "difA_C = A.difference(C)\n",
        "difB_C = A.difference(C)\n",
        "\n",
        "print(\"Set A - B: \", difA_B)\n",
        "print(\"Set A - C: \", difA_C)\n",
        "print(\"Set B - C: \", difB_C)"
      ],
      "execution_count": 30,
      "outputs": [
        {
          "output_type": "stream",
          "text": [
            "Set A - B:  {1.7, 1.6, 1.8, 4.4, 5.9, 5.8, 6.5, 5.3, 9.6, 5.2, 3.5, 4.6, 1.1, 2.9}\n",
            "Set A - C:  {1.7, 1.9, 1.8, 1.6, 5.8, 5.7, 5.9, 6.5, 9.6, 6.2, 4.4, 5.3, 5.2, 2.9, 3.5, 4.6, 4.7}\n",
            "Set B - C:  {1.7, 1.9, 1.8, 1.6, 5.8, 5.7, 5.9, 6.5, 9.6, 6.2, 4.4, 5.3, 5.2, 2.9, 3.5, 4.6, 4.7}\n"
          ],
          "name": "stdout"
        }
      ]
    },
    {
      "cell_type": "code",
      "metadata": {
        "colab": {
          "base_uri": "https://localhost:8080/"
        },
        "id": "mXDVnIULKci3",
        "outputId": "bee25258-b828-4b22-bf57-272a1719b3fb"
      },
      "source": [
        "#1b) Retorne as intersecções entre (1,2) (1,3) e (2,3)\n",
        "\n",
        "intersecA_B = A.intersection(B)\n",
        "intersecA_C = A.intersection(C)\n",
        "intersecB_C = B.intersection(C)\n",
        "\n",
        "print(\"A ∩ B: \", intersecA_B)\n",
        "print(\"A ∩ C: \", intersecA_C)\n",
        "print(\"B ∩ C: \", intersecB_C)\n"
      ],
      "execution_count": 35,
      "outputs": [
        {
          "output_type": "stream",
          "text": [
            "A ∩ B:  {1.9, 4.7, 5.7, 6.2, 9.5}\n",
            "A ∩ C:  {1.1, 9.5}\n",
            "B ∩ C:  {9.5, 3.3, 5.1}\n"
          ],
          "name": "stdout"
        }
      ]
    },
    {
      "cell_type": "code",
      "metadata": {
        "colab": {
          "base_uri": "https://localhost:8080/"
        },
        "id": "Kfig1BTGKkc7",
        "outputId": "238eadf7-3b18-4051-f007-93784703e8aa"
      },
      "source": [
        "#1c) Insira todos os elementos do conjunto 2 e 3 no conjunto 1\n",
        "finalSet = A.union(B).union(C)\n",
        "print(\"A U B U C: \", finalSet)\n",
        "print(len(A)+len(B)+len(C))"
      ],
      "execution_count": 33,
      "outputs": [
        {
          "output_type": "stream",
          "text": [
            "A U B U C:  {0.5, 1.9, 1.6, 1.8, 1.7, 5.8, 5.7, 5.9, 6.5, 9.6, 9.5, 6.2, 4.4, 5.3, 5.2, 7, 3.5, 3, 2, 4.6, 4.1, 4.9, 5.6, 5, 5.1, 5.4, 1.0, 6.1, 6.9, 7.1, 1.1, 8.8, 8.5, 2.1, 9.1, 9.3, 3.6, 2.2, 3.3, 3.8, 3.7, 3.2, 0.8, 4.7, 1.3, 2.9, 3.4, 3.9}\n",
            "57\n"
          ],
          "name": "stdout"
        }
      ]
    },
    {
      "cell_type": "code",
      "metadata": {
        "colab": {
          "base_uri": "https://localhost:8080/"
        },
        "id": "OiBYCfIZKoZa",
        "outputId": "018e61a0-6031-4e0a-f2af-9fce8a97966a"
      },
      "source": [
        "#d) Retorne o tamanho do conjunto formado pela tarefa (c).  \n",
        "len(finalSet)"
      ],
      "execution_count": 27,
      "outputs": [
        {
          "output_type": "execute_result",
          "data": {
            "text/plain": [
              "48"
            ]
          },
          "metadata": {
            "tags": []
          },
          "execution_count": 27
        }
      ]
    },
    {
      "cell_type": "markdown",
      "metadata": {
        "id": "rcHfBmmjNuuP"
      },
      "source": [
        "\n",
        "\n",
        "---\n",
        "\n",
        "\n",
        "# **Exercício 2**\n",
        "\n",
        "Dados os seguintes conjuntos <p>\n",
        "A = {3, 6, 9, 12, 15, 18, 21, 24, 28, 27} <p>\n",
        "B = {2, 6, 8, 10, 14, 16, 18, 20, 22, 24} <p>\n",
        "C = {2, 6, 10, 18, 20} <p>\n",
        "D = {1, 30, 5, 11, 17, 16, 22, 26} <p>\n",
        "\n",
        "Codifique em Python as variáveis que os representam e realize as seguintes tarefas: <p>\n",
        "a) Verifique a interseção e diferença entre o conjunto A e B. <p>\n",
        "b) Verifique se o conjunto A e B são disjuntos ao conjunto D <p>\n",
        "c) Retorne se o conjunto C é subconjunto de A e B <p>\n",
        "d) Acrescente os elementos 18, 23, 25, 63 no conjunto D <p>"
      ]
    },
    {
      "cell_type": "code",
      "metadata": {
        "colab": {
          "base_uri": "https://localhost:8080/"
        },
        "id": "pNmyVRJBNy_e",
        "outputId": "e844f659-765f-4a8f-b285-8b97f42a10f1"
      },
      "source": [
        "#a) Verifique a interseção e diferença entre o conjunto A e B. \n",
        "A = {3, 6, 9, 12, 15, 18, 21, 24, 28, 27} \n",
        "B = {2, 6, 8, 10, 14, 16, 18, 20, 22, 24} \n",
        "C = {2, 6, 10, 18, 20} \n",
        "D = {1, 30, 5, 11, 17, 16, 22, 26}\n",
        "\n",
        "difA_B = A.difference(B) \n",
        "intersectA_B = A.intersection(B) \n",
        "print(\"A - B = \", difA_B) \n",
        "print(\"A ∩ B = \", intersectA_B) "
      ],
      "execution_count": 47,
      "outputs": [
        {
          "output_type": "stream",
          "text": [
            "A - B =  {3, 9, 12, 15, 21, 27, 28}\n",
            "A ∩ B =  {24, 18, 6}\n"
          ],
          "name": "stdout"
        }
      ]
    },
    {
      "cell_type": "code",
      "metadata": {
        "colab": {
          "base_uri": "https://localhost:8080/"
        },
        "id": "JtKDCArHOQeY",
        "outputId": "6453ad9d-e537-4e10-c0ab-4d020d6b86dd"
      },
      "source": [
        "#b) Verifique se o conjunto A e B são disjuntos ao conjunto D \n",
        "AUB = A.union(B)\n",
        "\n",
        "print(\"Is A U B disjoint with D = \", AUB.isdisjoint(D)) \n"
      ],
      "execution_count": 40,
      "outputs": [
        {
          "output_type": "stream",
          "text": [
            "Is A U B disjoint with D =  False\n"
          ],
          "name": "stdout"
        }
      ]
    },
    {
      "cell_type": "code",
      "metadata": {
        "colab": {
          "base_uri": "https://localhost:8080/"
        },
        "id": "vyRHd_H0OQpS",
        "outputId": "81781ef5-f221-4c83-86e7-872a248c62ba"
      },
      "source": [
        "#c) Retorne se o conjunto C é subconjunto de A e B \n",
        "print(\"Is C a subset of A U B? \", C.issubset(AUB)) "
      ],
      "execution_count": 41,
      "outputs": [
        {
          "output_type": "stream",
          "text": [
            "Is C a subset of A U B?  True\n"
          ],
          "name": "stdout"
        }
      ]
    },
    {
      "cell_type": "code",
      "metadata": {
        "colab": {
          "base_uri": "https://localhost:8080/"
        },
        "id": "tDJjBzkpOQxK",
        "outputId": "fbc84620-0bbe-4733-e024-df90e48eb414"
      },
      "source": [
        "#d) Acrescente os elementos 18, 23, 25, 63 no conjunto D\n",
        "D.update([18,23,25,63])\n",
        "print(D)"
      ],
      "execution_count": 48,
      "outputs": [
        {
          "output_type": "stream",
          "text": [
            "{1, 5, 11, 16, 17, 22, 26, 30}\n",
            "{1, 5, 11, 16, 17, 18, 22, 23, 25, 26, 30, 63}\n"
          ],
          "name": "stdout"
        }
      ]
    }
  ]
}